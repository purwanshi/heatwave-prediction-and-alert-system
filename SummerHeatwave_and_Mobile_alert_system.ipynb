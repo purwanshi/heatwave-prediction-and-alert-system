{
  "nbformat": 4,
  "nbformat_minor": 0,
  "metadata": {
    "colab": {
      "provenance": []
    },
    "kernelspec": {
      "name": "python3",
      "display_name": "Python 3"
    },
    "language_info": {
      "name": "python"
    }
  },
  "cells": [
    {
      "cell_type": "code",
      "source": [
        "# importing nessacry librares forour project\n",
        "import pandas as pd\n",
        "from sklearn.model_selection import train_test_split\n",
        "from sklearn.ensemble import RandomForestClassifier\n",
        "from sklearn.metrics import accuracy_score\n",
        "!pip install twilio\n",
        "from twilio.rest import Client\n",
        "\n",
        "data = {\n",
        "    'temperature': [38, 35, 41, 37, 40, 42, 39],\n",
        "    'humidity': [10, 12, 9, 11, 10, 8, 9],\n",
        "    'wind_speed': [20, 22, 18, 21, 23, 19, 22],\n",
        "    'heatwave': [1, 0, 1, 0, 1, 1, 1]\n",
        "}\n",
        "\n",
        "df = pd.DataFrame(data)\n",
        "\n",
        "# Split data into features and target\n",
        "X = df[['temperature', 'humidity', 'wind_speed']]\n",
        "y = df['heatwave']  # Target (heatwave: 1 or 0)\n",
        "\n",
        "# Split sets into training and test\n",
        "X_train, X_test, y_train, y_test = train_test_split(X, y, test_size=0.2, random_state=42)\n",
        "\n",
        "model = RandomForestClassifier(n_estimators=100, random_state=42)\n",
        "\n",
        "# Training the model\n",
        "model.fit(X_train, y_train)\n",
        "\n",
        "# Predict on test set\n",
        "y_pred = model.predict(X_test)\n",
        "\n",
        "# Evaluate accuracy\n",
        "accuracy = accuracy_score(y_test, y_pred)\n",
        "print(f\"Model Accuracy: {accuracy * 100:.2f}%\")"
      ],
      "metadata": {
        "colab": {
          "base_uri": "https://localhost:8080/"
        },
        "id": "RlEooxJzK_90",
        "outputId": "73a30d05-ebab-40dd-e8e7-eb146f3b5ad7"
      },
      "execution_count": 16,
      "outputs": [
        {
          "output_type": "stream",
          "name": "stdout",
          "text": [
            "Requirement already satisfied: twilio in /usr/local/lib/python3.10/dist-packages (9.3.3)\n",
            "Requirement already satisfied: requests>=2.0.0 in /usr/local/lib/python3.10/dist-packages (from twilio) (2.32.3)\n",
            "Requirement already satisfied: PyJWT<3.0.0,>=2.0.0 in /usr/local/lib/python3.10/dist-packages (from twilio) (2.9.0)\n",
            "Requirement already satisfied: aiohttp>=3.8.4 in /usr/local/lib/python3.10/dist-packages (from twilio) (3.10.9)\n",
            "Requirement already satisfied: aiohttp-retry>=2.8.3 in /usr/local/lib/python3.10/dist-packages (from twilio) (2.8.3)\n",
            "Requirement already satisfied: aiohappyeyeballs>=2.3.0 in /usr/local/lib/python3.10/dist-packages (from aiohttp>=3.8.4->twilio) (2.4.3)\n",
            "Requirement already satisfied: aiosignal>=1.1.2 in /usr/local/lib/python3.10/dist-packages (from aiohttp>=3.8.4->twilio) (1.3.1)\n",
            "Requirement already satisfied: attrs>=17.3.0 in /usr/local/lib/python3.10/dist-packages (from aiohttp>=3.8.4->twilio) (24.2.0)\n",
            "Requirement already satisfied: frozenlist>=1.1.1 in /usr/local/lib/python3.10/dist-packages (from aiohttp>=3.8.4->twilio) (1.4.1)\n",
            "Requirement already satisfied: multidict<7.0,>=4.5 in /usr/local/lib/python3.10/dist-packages (from aiohttp>=3.8.4->twilio) (6.1.0)\n",
            "Requirement already satisfied: yarl<2.0,>=1.12.0 in /usr/local/lib/python3.10/dist-packages (from aiohttp>=3.8.4->twilio) (1.13.1)\n",
            "Requirement already satisfied: async-timeout<5.0,>=4.0 in /usr/local/lib/python3.10/dist-packages (from aiohttp>=3.8.4->twilio) (4.0.3)\n",
            "Requirement already satisfied: charset-normalizer<4,>=2 in /usr/local/lib/python3.10/dist-packages (from requests>=2.0.0->twilio) (3.3.2)\n",
            "Requirement already satisfied: idna<4,>=2.5 in /usr/local/lib/python3.10/dist-packages (from requests>=2.0.0->twilio) (3.10)\n",
            "Requirement already satisfied: urllib3<3,>=1.21.1 in /usr/local/lib/python3.10/dist-packages (from requests>=2.0.0->twilio) (2.2.3)\n",
            "Requirement already satisfied: certifi>=2017.4.17 in /usr/local/lib/python3.10/dist-packages (from requests>=2.0.0->twilio) (2024.8.30)\n",
            "Requirement already satisfied: typing-extensions>=4.1.0 in /usr/local/lib/python3.10/dist-packages (from multidict<7.0,>=4.5->aiohttp>=3.8.4->twilio) (4.12.2)\n",
            "Model Accuracy: 100.00%\n"
          ]
        }
      ]
    },
    {
      "cell_type": "markdown",
      "source": [
        "using open weather website to retireve real time data\n"
      ],
      "metadata": {
        "id": "KzlfSY10IXox"
      }
    },
    {
      "cell_type": "code",
      "source": [
        "import requests\n",
        "import pandas as pd\n",
        "\n",
        "# Function to get live weather data\n",
        "def get_live_weather_data(city):\n",
        "    API_KEY = \"36bf03f00a17d9c44132b8c265f44a58\"\n",
        "    url = f\"http://api.openweathermap.org/data/2.5/weather?q={city}&appid={API_KEY}&units=metric\"\n",
        "\n",
        "    # Send request to OpenWeatherMap\n",
        "    response = requests.get(url)\n",
        "\n",
        "    if response.status_code == 200:\n",
        "        weather_data = response.json()\n",
        "\n",
        "        # Extracting our weather information\n",
        "        temperature = weather_data['main']['temp']\n",
        "        humidity = weather_data['main']['humidity']\n",
        "        wind_speed = weather_data['wind']['speed']\n",
        "        weather_description = weather_data['weather'][0]['description']\n",
        "\n",
        "        # Return weather data as a dictionary\n",
        "        return {\n",
        "            \"temperature\": temperature,\n",
        "            \"humidity\": humidity,\n",
        "            \"wind_speed\": wind_speed,\n",
        "            \"weather_description\": weather_description\n",
        "        }\n",
        "    elif response.status_code == 401:\n",
        "        print(\"Unauthorized. Please check your API key.\")\n",
        "    else:\n",
        "        print(f\"Failed to retrieve data for {city}, error code: {response.status_code}\")\n",
        "        return None\n",
        "\n",
        "live_weather_data = get_live_weather_data(\"jaipur\")\n",
        "print(live_weather_data)\n",
        "\n"
      ],
      "metadata": {
        "colab": {
          "base_uri": "https://localhost:8080/"
        },
        "id": "TUgCp6hkEmwW",
        "outputId": "d528b738-c86a-4774-9534-31bece908449"
      },
      "execution_count": 31,
      "outputs": [
        {
          "output_type": "stream",
          "name": "stdout",
          "text": [
            "{'temperature': 26.62, 'humidity': 61, 'wind_speed': 2.57, 'weather_description': 'haze'}\n"
          ]
        }
      ]
    },
    {
      "cell_type": "code",
      "source": [
        "if live_weather_data:\n",
        "    # Convert live weather data to DataFrame\n",
        "    live_weather_df = pd.DataFrame([live_weather_data])\n",
        "\n",
        "    # Selecting specific features for prediction\n",
        "    live_weather_df = live_weather_df[['temperature', 'humidity', 'wind_speed']] # Select only the features used during training\n",
        "\n",
        "\n",
        "    predicted_heat_wave = model.predict(live_weather_df)[0]\n",
        "\n",
        "    # Set a low temperature threshold for testing(becoz its winter in india right now)\n",
        "    TEMP_THRESHOLD = 23.2\n",
        "    live_temperature = live_weather_data[\"temperature\"]\n",
        "\n",
        "    # Check if temperature exceeds the threshold\n",
        "    if predicted_heat_wave == 1 or live_temperature > TEMP_THRESHOLD:\n",
        "        print(\"Heatwave predicted or temperature exceeds threshold!\")\n",
        "    else:\n",
        "        print(\"No heatwave predicted and temperature is within limits.\")\n"
      ],
      "metadata": {
        "colab": {
          "base_uri": "https://localhost:8080/"
        },
        "id": "003rPuP-Ih5W",
        "outputId": "94210ad3-a730-49e0-f8e9-f72adf920da6"
      },
      "execution_count": 29,
      "outputs": [
        {
          "output_type": "stream",
          "name": "stdout",
          "text": [
            "Heatwave predicted or temperature exceeds threshold!\n"
          ]
        }
      ]
    },
    {
      "cell_type": "markdown",
      "source": [
        "sending alert messages via twilio\n"
      ],
      "metadata": {
        "id": "zYIG7ve2O_wR"
      }
    },
    {
      "cell_type": "code",
      "source": [
        "!pip install twilio\n",
        "from twilio.rest import Client\n",
        "\n",
        "\n",
        "account_sid = 'ACbee5497388e89b372d0c638d5492be1f'\n",
        "auth_token = '17cef9c1a280b4ce151bd2fbb3a0c8bd'\n",
        "twilio_phone_number = '18645139962'\n",
        "recipient_phone_number = '+919571797661'\n",
        "\n",
        "\n",
        "client = Client(account_sid, auth_token)\n",
        "\n",
        "# Function to send SMS\n",
        "def send_sms_alert(message):\n",
        "    message = client.messages.create(\n",
        "        body=message,\n",
        "        from_=twilio_phone_number,\n",
        "        to=recipient_phone_number\n",
        "    )\n",
        "    print(f'SMS sent: {message.sid}')\n",
        "\n",
        "  #mentioning our city\n",
        "city=\"jaipur\"\n",
        "\n",
        "#condition for sending message\n",
        "if predicted_heat_wave == 1 or live_temperature > TEMP_THRESHOLD:\n",
        "    alert_message = f\"Heatwave Alert: in {city}. Stay indoors and drink mint and raw mango juice!\"\n",
        "    send_sms_alert(alert_message)\n",
        "    print(\"SMS alert sent!\")\n",
        "else:\n",
        "    print(\"No SMS alert needed.\")"
      ],
      "metadata": {
        "colab": {
          "base_uri": "https://localhost:8080/"
        },
        "id": "3IYG1ZVsFh4I",
        "outputId": "966a6d39-edff-4e04-92ab-a66fb68821d8"
      },
      "execution_count": 36,
      "outputs": [
        {
          "output_type": "stream",
          "name": "stdout",
          "text": [
            "Requirement already satisfied: twilio in /usr/local/lib/python3.10/dist-packages (9.3.3)\n",
            "Requirement already satisfied: requests>=2.0.0 in /usr/local/lib/python3.10/dist-packages (from twilio) (2.32.3)\n",
            "Requirement already satisfied: PyJWT<3.0.0,>=2.0.0 in /usr/local/lib/python3.10/dist-packages (from twilio) (2.9.0)\n",
            "Requirement already satisfied: aiohttp>=3.8.4 in /usr/local/lib/python3.10/dist-packages (from twilio) (3.10.9)\n",
            "Requirement already satisfied: aiohttp-retry>=2.8.3 in /usr/local/lib/python3.10/dist-packages (from twilio) (2.8.3)\n",
            "Requirement already satisfied: aiohappyeyeballs>=2.3.0 in /usr/local/lib/python3.10/dist-packages (from aiohttp>=3.8.4->twilio) (2.4.3)\n",
            "Requirement already satisfied: aiosignal>=1.1.2 in /usr/local/lib/python3.10/dist-packages (from aiohttp>=3.8.4->twilio) (1.3.1)\n",
            "Requirement already satisfied: attrs>=17.3.0 in /usr/local/lib/python3.10/dist-packages (from aiohttp>=3.8.4->twilio) (24.2.0)\n",
            "Requirement already satisfied: frozenlist>=1.1.1 in /usr/local/lib/python3.10/dist-packages (from aiohttp>=3.8.4->twilio) (1.4.1)\n",
            "Requirement already satisfied: multidict<7.0,>=4.5 in /usr/local/lib/python3.10/dist-packages (from aiohttp>=3.8.4->twilio) (6.1.0)\n",
            "Requirement already satisfied: yarl<2.0,>=1.12.0 in /usr/local/lib/python3.10/dist-packages (from aiohttp>=3.8.4->twilio) (1.13.1)\n",
            "Requirement already satisfied: async-timeout<5.0,>=4.0 in /usr/local/lib/python3.10/dist-packages (from aiohttp>=3.8.4->twilio) (4.0.3)\n",
            "Requirement already satisfied: charset-normalizer<4,>=2 in /usr/local/lib/python3.10/dist-packages (from requests>=2.0.0->twilio) (3.3.2)\n",
            "Requirement already satisfied: idna<4,>=2.5 in /usr/local/lib/python3.10/dist-packages (from requests>=2.0.0->twilio) (3.10)\n",
            "Requirement already satisfied: urllib3<3,>=1.21.1 in /usr/local/lib/python3.10/dist-packages (from requests>=2.0.0->twilio) (2.2.3)\n",
            "Requirement already satisfied: certifi>=2017.4.17 in /usr/local/lib/python3.10/dist-packages (from requests>=2.0.0->twilio) (2024.8.30)\n",
            "Requirement already satisfied: typing-extensions>=4.1.0 in /usr/local/lib/python3.10/dist-packages (from multidict<7.0,>=4.5->aiohttp>=3.8.4->twilio) (4.12.2)\n",
            "SMS sent: SM5833fbdf7464bc79cb1552763a4aced4\n",
            "SMS alert sent!\n"
          ]
        }
      ]
    }
  ]
}